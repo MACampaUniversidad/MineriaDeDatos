{
 "cells": [
  {
   "cell_type": "code",
   "execution_count": 1,
   "metadata": {},
   "outputs": [
    {
     "output_type": "stream",
     "name": "stdout",
     "text": "*****************************************************************\nAnálisis comparativo de tipos\n*****************************************************************\n...............................................................\nFile: dataInputs/train.csv\nPassengerId                          Numero\nSurvived                             Numero\nPclass                               Numero\nName           Cadena de texto AlfaNumerica\nSex            Cadena de texto AlfaNumerica\nAge                          Numero (largo)\nSibSp                                Numero\nParch                                Numero\nTicket         Cadena de texto AlfaNumerica\nFare                         Numero (largo)\nCabin          Cadena de texto AlfaNumerica\nEmbarked       Cadena de texto AlfaNumerica\ndtype: object\n...............................................................\nFile: dataInputs/test.csv\nPassengerId                          Numero\nPclass                               Numero\nName           Cadena de texto AlfaNumerica\nSex            Cadena de texto AlfaNumerica\nAge                          Numero (largo)\nSibSp                                Numero\nParch                                Numero\nTicket         Cadena de texto AlfaNumerica\nFare                         Numero (largo)\nCabin          Cadena de texto AlfaNumerica\nEmbarked       Cadena de texto AlfaNumerica\ndtype: object\n----------------------------------------------------------------\nBuscando diferencias entre tipos: - Significa eliminado, + significa añadido:\n(0, '  PassengerId                          Numero\\n')\n(1, '- Survived                             Numero\\n')\n(2, '  Pclass                               Numero\\n')\n(3, '  Name           Cadena de texto AlfaNumerica\\n')\n(4, '  Sex            Cadena de texto AlfaNumerica\\n')\n(5, '  Age                          Numero (largo)\\n')\n(6, '  SibSp                                Numero\\n')\n(7, '  Parch                                Numero\\n')\n(8, '  Ticket         Cadena de texto AlfaNumerica\\n')\n(9, '  Fare                         Numero (largo)\\n')\n(10, '  Cabin          Cadena de texto AlfaNumerica\\n')\n(11, '  Embarked       Cadena de texto AlfaNumerica')\n(12, 'Comparativa de tamaños: ')\n(13, 'dataInputs/train.csv Filas:891 Columnas:12')\n(14, 'dataInputs/test.csv Filas:418 Columnas:11')\n*****************************************************************\nBuscando campos vacios:\n*****************************************************************\n...............................................................\nFile: dataInputs/train.csv\n<class 'pandas.core.frame.DataFrame'>\nRangeIndex: 891 entries, 0 to 890\nData columns (total 12 columns):\n #   Column       Non-Null Count  Dtype  \n---  ------       --------------  -----  \n 0   PassengerId  891 non-null    int64  \n 1   Survived     891 non-null    int64  \n 2   Pclass       891 non-null    int64  \n 3   Name         891 non-null    object \n 4   Sex          891 non-null    object \n 5   Age          714 non-null    float64\n 6   SibSp        891 non-null    int64  \n 7   Parch        891 non-null    int64  \n 8   Ticket       891 non-null    object \n 9   Fare         891 non-null    float64\n 10  Cabin        204 non-null    object \n 11  Embarked     889 non-null    object \ndtypes: float64(2), int64(5), object(5)\nmemory usage: 83.7+ KB\n       PassengerId    Survived      Pclass         Age       SibSp  \\\ncount   891.000000  891.000000  891.000000  714.000000  891.000000   \nmean    446.000000    0.383838    2.308642   29.699118    0.523008   \nstd     257.353842    0.486592    0.836071   14.526497    1.102743   \nmin       1.000000    0.000000    1.000000    0.420000    0.000000   \n25%     223.500000    0.000000    2.000000   20.125000    0.000000   \n50%     446.000000    0.000000    3.000000   28.000000    0.000000   \n75%     668.500000    1.000000    3.000000   38.000000    1.000000   \nmax     891.000000    1.000000    3.000000   80.000000    8.000000   \n\n            Parch        Fare  \ncount  891.000000  891.000000  \nmean     0.381594   32.204208  \nstd      0.806057   49.693429  \nmin      0.000000    0.000000  \n25%      0.000000    7.910400  \n50%      0.000000   14.454200  \n75%      0.000000   31.000000  \nmax      6.000000  512.329200  \n...............................................................\nFile: dataInputs/test.csv\n<class 'pandas.core.frame.DataFrame'>\nRangeIndex: 418 entries, 0 to 417\nData columns (total 11 columns):\n #   Column       Non-Null Count  Dtype  \n---  ------       --------------  -----  \n 0   PassengerId  418 non-null    int64  \n 1   Pclass       418 non-null    int64  \n 2   Name         418 non-null    object \n 3   Sex          418 non-null    object \n 4   Age          332 non-null    float64\n 5   SibSp        418 non-null    int64  \n 6   Parch        418 non-null    int64  \n 7   Ticket       418 non-null    object \n 8   Fare         417 non-null    float64\n 9   Cabin        91 non-null     object \n 10  Embarked     418 non-null    object \ndtypes: float64(2), int64(4), object(5)\nmemory usage: 36.0+ KB\n       PassengerId      Pclass         Age       SibSp       Parch        Fare\ncount   418.000000  418.000000  332.000000  418.000000  418.000000  417.000000\nmean   1100.500000    2.265550   30.272590    0.447368    0.392344   35.627188\nstd     120.810458    0.841838   14.181209    0.896760    0.981429   55.907576\nmin     892.000000    1.000000    0.170000    0.000000    0.000000    0.000000\n25%     996.250000    1.000000   21.000000    0.000000    0.000000    7.895800\n50%    1100.500000    3.000000   27.000000    0.000000    0.000000   14.454200\n75%    1204.750000    3.000000   39.000000    1.000000    0.000000   31.500000\nmax    1309.000000    3.000000   76.000000    8.000000    9.000000  512.329200\n"
    }
   ],
   "source": [
    "\n",
    "import pandas \n",
    "import os\n",
    "import matplotlib.pyplot as mathPlot\n",
    "import seaborn as sea\n",
    "import difflib \n",
    "#define a class to help us with the process\n",
    "class ModelFileHelper(object):\n",
    "    \"\"\"Ayuda a dar una descripcion de un fichero y a su carga \"\"\"\n",
    "    def __init__(self, csvFile):\n",
    "     self.csvFile= pandas.read_csv(csvFile)\n",
    "     self.fileName=csvFile\n",
    "    def getDescription(self):\n",
    "        return self.csvFile.describe()\n",
    "\n",
    "    def getModelTypeDetail(self):\n",
    "        \"\"\"Retorna una estructura legible con los tipos de dato del conjunto de datos del csv cargado\"\"\"\n",
    "        return self.__translateTypestoHumanReadable(self.csvFile.dtypes)\n",
    "\n",
    "    def findDifferences(self, other):\n",
    "        \"\"\"Retorna una lista con la comparacion de las columnas y los tipos de dos csv\"\"\"\n",
    "        returnlist = list (difflib.Differ().compare(self.getModelTypeDetail().to_string().splitlines(1), other.getModelTypeDetail().to_string().splitlines(1)))\n",
    "        returnlist.append(\"Comparativa de tamaños: \")\n",
    "        returnlist.append (self.fileName +  \" Filas:\" + ''.join(self.__tuplaCleanUp(self.csvFile.shape[0:1])) + \" Columnas:\" +  ''.join(self.__tuplaCleanUp(self.csvFile.shape[1:2])))\n",
    "        returnlist.append (other.fileName + \" Filas:\" + ''.join(self.__tuplaCleanUp(other.csvFile.shape[0:1])) + \" Columnas:\" +  ''.join(self.__tuplaCleanUp(other.csvFile.shape[1:2])))\n",
    "        return returnlist\n",
    "\n",
    "    def __tuplaCleanUp(self, tupla):\n",
    "        result = str(tupla).replace('(','').replace(')','').replace(',','')\n",
    "        return result\n",
    "\n",
    "    def __translateTypestoHumanReadable(self, text):\n",
    "        return text.replace(\"int64\", \"Numero\").replace(\"object\", \"Cadena de texto AlfaNumerica\").replace(\"float64\", \"Numero (largo)\")\n",
    "\n",
    "#load the train model and store it in a dictionary :\n",
    "files = { \"train\" : ModelFileHelper(\"dataInputs/train.csv\"), \"test\" :   ModelFileHelper(\"dataInputs/test.csv\")} \n",
    " \n",
    "#describe both files \n",
    "print (\"*****************************************************************\")\n",
    "print (\"Análisis comparativo de tipos\")\n",
    "print (\"*****************************************************************\")\n",
    "for index, (clave, valor) in enumerate (files.items()):\n",
    "    print (\"...............................................................\")\n",
    "    print (\"File: \" + valor.fileName)\n",
    "    print (valor.getModelTypeDetail())\n",
    "print (\"----------------------------------------------------------------\")\n",
    "print (\"Buscando diferencias entre tipos: - Significa eliminado, + significa añadido:\")   \n",
    "for listItem in enumerate (files.get(\"train\").findDifferences(files.get(\"test\"))):\n",
    "    print (listItem)\n",
    "#check for null fields:\n",
    "print (\"*****************************************************************\")\n",
    "print (\"Buscando campos vacios:\")   \n",
    "print (\"*****************************************************************\")\n",
    "for index, (clave, valor) in enumerate (files.items()):\n",
    "    print (\"...............................................................\")\n",
    "    print (\"File: \" + valor.fileName)\n",
    "    valor.csvFile.info()\n",
    "    print (valor.getDescription())  \n",
    "\n",
    " \n",
    " "
   ]
  },
  {
   "cell_type": "code",
   "execution_count": 8,
   "metadata": {},
   "outputs": [
    {
     "output_type": "stream",
     "name": "stdout",
     "text": "*****************************************************************\nLimpieza del modelo: análisis de las correlaciones \n*****************************************************************\n"
    },
    {
     "output_type": "execute_result",
     "data": {
      "text/plain": "             PassengerId  Survived    Pclass       Age     SibSp     Parch  \\\nPassengerId     1.000000 -0.005007 -0.035144  0.036847 -0.057527 -0.001652   \nSurvived       -0.005007  1.000000 -0.338481 -0.077221 -0.035322  0.081629   \nPclass         -0.035144 -0.338481  1.000000 -0.369226  0.083081  0.018443   \nAge             0.036847 -0.077221 -0.369226  1.000000 -0.308247 -0.189119   \nSibSp          -0.057527 -0.035322  0.083081 -0.308247  1.000000  0.414838   \nParch          -0.001652  0.081629  0.018443 -0.189119  0.414838  1.000000   \nFare            0.012658  0.257307 -0.549500  0.096067  0.159651  0.216225   \n\n                 Fare  \nPassengerId  0.012658  \nSurvived     0.257307  \nPclass      -0.549500  \nAge          0.096067  \nSibSp        0.159651  \nParch        0.216225  \nFare         1.000000  ",
      "text/html": "<div>\n<style scoped>\n    .dataframe tbody tr th:only-of-type {\n        vertical-align: middle;\n    }\n\n    .dataframe tbody tr th {\n        vertical-align: top;\n    }\n\n    .dataframe thead th {\n        text-align: right;\n    }\n</style>\n<table border=\"1\" class=\"dataframe\">\n  <thead>\n    <tr style=\"text-align: right;\">\n      <th></th>\n      <th>PassengerId</th>\n      <th>Survived</th>\n      <th>Pclass</th>\n      <th>Age</th>\n      <th>SibSp</th>\n      <th>Parch</th>\n      <th>Fare</th>\n    </tr>\n  </thead>\n  <tbody>\n    <tr>\n      <th>PassengerId</th>\n      <td>1.000000</td>\n      <td>-0.005007</td>\n      <td>-0.035144</td>\n      <td>0.036847</td>\n      <td>-0.057527</td>\n      <td>-0.001652</td>\n      <td>0.012658</td>\n    </tr>\n    <tr>\n      <th>Survived</th>\n      <td>-0.005007</td>\n      <td>1.000000</td>\n      <td>-0.338481</td>\n      <td>-0.077221</td>\n      <td>-0.035322</td>\n      <td>0.081629</td>\n      <td>0.257307</td>\n    </tr>\n    <tr>\n      <th>Pclass</th>\n      <td>-0.035144</td>\n      <td>-0.338481</td>\n      <td>1.000000</td>\n      <td>-0.369226</td>\n      <td>0.083081</td>\n      <td>0.018443</td>\n      <td>-0.549500</td>\n    </tr>\n    <tr>\n      <th>Age</th>\n      <td>0.036847</td>\n      <td>-0.077221</td>\n      <td>-0.369226</td>\n      <td>1.000000</td>\n      <td>-0.308247</td>\n      <td>-0.189119</td>\n      <td>0.096067</td>\n    </tr>\n    <tr>\n      <th>SibSp</th>\n      <td>-0.057527</td>\n      <td>-0.035322</td>\n      <td>0.083081</td>\n      <td>-0.308247</td>\n      <td>1.000000</td>\n      <td>0.414838</td>\n      <td>0.159651</td>\n    </tr>\n    <tr>\n      <th>Parch</th>\n      <td>-0.001652</td>\n      <td>0.081629</td>\n      <td>0.018443</td>\n      <td>-0.189119</td>\n      <td>0.414838</td>\n      <td>1.000000</td>\n      <td>0.216225</td>\n    </tr>\n    <tr>\n      <th>Fare</th>\n      <td>0.012658</td>\n      <td>0.257307</td>\n      <td>-0.549500</td>\n      <td>0.096067</td>\n      <td>0.159651</td>\n      <td>0.216225</td>\n      <td>1.000000</td>\n    </tr>\n  </tbody>\n</table>\n</div>"
     },
     "metadata": {},
     "execution_count": 8
    }
   ],
   "source": [
    "#Correlations\n",
    "print (\"*****************************************************************\")\n",
    "print (\"Limpieza del modelo: análisis de las correlaciones \")   \n",
    "print (\"*****************************************************************\")\n",
    "files.get(\"train\").csvFile.corr()\n",
    "\n",
    "\n"
   ]
  },
  {
   "cell_type": "code",
   "execution_count": 12,
   "metadata": {},
   "outputs": [
    {
     "output_type": "stream",
     "name": "stdout",
     "text": "*****************************************************************\nLimpieza del modelo: Eliminando campos Irrelevantes (Cabin):\n*****************************************************************\n...............................................................\nFile: dataInputs/train.csv\nPassengerId                          Numero\nSurvived                             Numero\nPclass                               Numero\nName           Cadena de texto AlfaNumerica\nSex            Cadena de texto AlfaNumerica\nAge                          Numero (largo)\nSibSp                                Numero\nParch                                Numero\nTicket         Cadena de texto AlfaNumerica\nFare                         Numero (largo)\nEmbarked       Cadena de texto AlfaNumerica\ndtype: object\n...............................................................\nFile: dataInputs/test.csv\nPassengerId                          Numero\nPclass                               Numero\nName           Cadena de texto AlfaNumerica\nSex            Cadena de texto AlfaNumerica\nAge                          Numero (largo)\nSibSp                                Numero\nParch                                Numero\nTicket         Cadena de texto AlfaNumerica\nFare                         Numero (largo)\nEmbarked       Cadena de texto AlfaNumerica\ndtype: object\n"
    }
   ],
   "source": [
    "#Clean up Cabin Column\n",
    "print (\"*****************************************************************\")\n",
    "print (\"Limpieza del modelo: Eliminando campos Irrelevantes \")   \n",
    "print (\"*****************************************************************\")\n",
    "for index, (clave, valor) in enumerate (files.items()):\n",
    "    print (\"...............................................................\")\n",
    "    print (\"File: \" + valor.fileName)\n",
    "    print (\"Removing Column Cabin: \")\n",
    "    valor.csvFile.drop('Cabin', axis=1, inplace=True)\n",
    "    print (\"Removing Column Embarked: \")\n",
    "    valor.csvFile.drop('Embarked', axis=1, inplace=True)\n",
    "    print (valor.getModelTypeDetail())  \n"
   ]
  },
  {
   "cell_type": "code",
   "execution_count": null,
   "metadata": {},
   "outputs": [],
   "source": [
    "#Infer missing age Data\n",
    "print (\"*****************************************************************\")\n",
    "print (\"Limpieza del modelo: Inferir campos de Edad vacios:\")   \n",
    "print (\"*****************************************************************\")\n",
    "files.get(\"train\")\n",
    "#extraer los grupos de poblacion. Vamos a agrupar por "
   ]
  }
 ],
 "metadata": {
  "language_info": {
   "codemirror_mode": {
    "name": "ipython",
    "version": 3
   },
   "file_extension": ".py",
   "mimetype": "text/x-python",
   "name": "python",
   "nbconvert_exporter": "python",
   "pygments_lexer": "ipython3",
   "version": "3.7.5-final"
  },
  "orig_nbformat": 2,
  "kernelspec": {
   "name": "python37564bitenvvenveb1b7e300a5a48538b6ce3f03776bd23",
   "display_name": "Python 3.7.5 64-bit ('env': venv)"
  }
 },
 "nbformat": 4,
 "nbformat_minor": 2
}